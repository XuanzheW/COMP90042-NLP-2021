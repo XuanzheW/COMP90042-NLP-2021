{
 "cells": [
  {
   "cell_type": "markdown",
   "metadata": {},
   "source": [
    "# Assignment 2: Language Modelling in Hangman"
   ]
  },
  {
   "cell_type": "markdown",
   "metadata": {
    "collapsed": true
   },
   "source": [
    "Student Name: Xuanzhe Wang\n",
    "\n",
    "Student ID: 1049411"
   ]
  },
  {
   "cell_type": "markdown",
   "metadata": {},
   "source": [
    "## General info"
   ]
  },
  {
   "cell_type": "markdown",
   "metadata": {},
   "source": [
    "<b>Due date</b>: Tuesday, 6 April 2021 5pm\n",
    "\n",
    "<b>Submission method</b>: Canvas submission\n",
    "\n",
    "<b>Submission materials</b>: completed copy of this iPython notebook\n",
    "\n",
    "<b>Late submissions</b>: -10% per day (both week and weekend days counted)\n",
    "\n",
    "<b>Marks</b>: 8% of mark for class (with 7% on correctness + 1% on quality and efficiency of your code)\n",
    "\n",
    "<b>Materials</b>: See [Using Jupyter Notebook and Python page](https://canvas.lms.unimelb.edu.au/courses/121115/pages/using-jupyter-notebook-and-python?module_item_id=2681264) on Canvas (under Modules>Resources) for information on the basic setup required for this class, including an iPython notebook viewer and the python packages NLTK, Numpy, Scipy, Matplotlib, Scikit-Learn, and Gensim. We recommend installing all the data for NLTK, since you will need various parts of it to complete this assignment. You can also use any Python built-in packages, but do not use any other 3rd party packages (the packages listed above are all fine to use); if your iPython notebook doesn't run on the marker's machine, you will lose marks. <b> You should use Python 3</b>.  \n",
    "\n",
    "To familiarize yourself with NLTK, here is a free online book:  Steven Bird, Ewan Klein, and Edward Loper (2009). <a href=http://nltk.org/book>Natural Language Processing with Python</a>. O'Reilly Media Inc. You may also consult the <a href=https://www.nltk.org/api/nltk.html>NLTK API</a>.\n",
    "\n",
    "<b>Evaluation</b>: Your iPython notebook should run end-to-end without any errors in a reasonable amount of time, and you must follow all instructions provided below, including specific implementation requirements and instructions for what needs to be printed (please avoid printing output we don't ask for). You should edit the sections below where requested, but leave the rest of the code as is. You should leave the output from running your code in the iPython notebook you submit, to assist with marking. The amount each question is worth is explicitly given. \n",
    "\n",
    "You will be marked not only on the correctness of your methods, but also the quality and efficency of your code: in particular, you should be careful to use Python built-in functions and operators when appropriate and pick descriptive variable names that adhere to <a href=\"https://www.python.org/dev/peps/pep-0008/\">Python style requirements</a>. If you think it might be unclear what you are doing, you should comment your code to help the marker make sense of it.\n",
    "\n",
    "<b>Updates</b>: Any major changes to the assignment will be announced via Canvas. Minor changes and clarifications will be announced on the discussion board; we recommend you check it regularly.\n",
    "\n",
    "<b>Academic misconduct</b>: For most people, collaboration will form a natural part of the undertaking of this homework, and we encourge you to discuss it in general terms with other students. However, this ultimately is still an individual task, and so reuse of code or other instances of clear influence will be considered cheating. We will be checking submissions for originality and will invoke the University’s <a href=\"http://academichonesty.unimelb.edu.au/policy.html\">Academic Misconduct policy</a> where inappropriate levels of collusion or plagiarism are deemed to have taken place."
   ]
  },
  {
   "cell_type": "markdown",
   "metadata": {},
   "source": [
    "# Overview\n",
    "\n",
    "In this homework, you'll be creating an 'artificial intelligence' player for the classic Hangman word guessing game. You will need to implement several different automatic strategies based on character-level n-gram language models. Your objective is to create an automatic player which makes the fewest mistakes."
   ]
  },
  {
   "cell_type": "markdown",
   "metadata": {},
   "source": [
    "# The Hangman Game (7 marks)"
   ]
  },
  {
   "cell_type": "markdown",
   "metadata": {},
   "source": [
    "**Instructions**: The <a href=\"https://en.wikipedia.org/wiki/Hangman_(game)\">Hangman game</a> is a simple game whereby one person thinks of a word, which they keep secret from their opponent, who tries to guess the word one character at a time. The game ends when the opponent makes more than a fixed number of incorrect guesses, or they figure out the secret word before then (in which case they *win*). \n",
    "\n",
    "Here's a simple version of the game. **No implementation is needed.**"
   ]
  },
  {
   "cell_type": "code",
   "execution_count": 1,
   "metadata": {},
   "outputs": [],
   "source": [
    "def hangman(secret_word, guesser, max_mistakes=8, verbose=True, **guesser_args):\n",
    "    \"\"\"\n",
    "        This function plays the hangman game with the provided guesser and returns the number of incorrect guesses. \n",
    "        \n",
    "        secret_word: a string of lower-case alphabetic characters, i.e., the answer to the game\n",
    "        guesser: a function which guesses the next character at each stage in the game\n",
    "            The function takes a:\n",
    "                mask: what is known of the word, as a string with _ denoting an unknown character\n",
    "                guessed: the set of characters which already been guessed in the game\n",
    "                guesser_args: additional (optional) keyword arguments, i.e., name=value\n",
    "        max_mistakes: limit on length of game, in terms of number of allowed mistakes\n",
    "        verbose: silent or verbose diagnostic prints\n",
    "        guesser_args: keyword arguments to pass directly to the guesser function\n",
    "    \"\"\"\n",
    "    secret_word = secret_word.lower()\n",
    "    mask = ['_'] * len(secret_word)\n",
    "    guessed = set()\n",
    "    if verbose:\n",
    "        print(\"Starting hangman game. Target is\", ' '.join(mask), 'length', len(secret_word))\n",
    "    \n",
    "    mistakes = 0\n",
    "    while mistakes < max_mistakes:\n",
    "        if verbose:\n",
    "            print(\"You have\", (max_mistakes-mistakes), \"attempts remaining.\")\n",
    "        guess = guesser(mask, guessed, **guesser_args)\n",
    "\n",
    "        if verbose:\n",
    "            print('Guess is', guess)\n",
    "        if guess in guessed:\n",
    "            if verbose:\n",
    "                print('Already guessed this before.')\n",
    "            mistakes += 1\n",
    "        else:\n",
    "            guessed.add(guess)\n",
    "            if guess in secret_word and len(guess) == 1:\n",
    "                for i, c in enumerate(secret_word):\n",
    "                    if c == guess:\n",
    "                        mask[i] = c\n",
    "                if verbose:\n",
    "                    print('Good guess:', ' '.join(mask))\n",
    "            else:\n",
    "                if len(guess) != 1:\n",
    "                    print('Please guess with only 1 character.')\n",
    "                if verbose:\n",
    "                    print('Sorry, try again.')\n",
    "                mistakes += 1\n",
    "                \n",
    "        if '_' not in mask:\n",
    "            if verbose:\n",
    "                print('Congratulations, you won.')\n",
    "            return mistakes\n",
    "        \n",
    "    if verbose:\n",
    "        print('Out of guesses. The word was', secret_word)    \n",
    "    return mistakes"
   ]
  },
  {
   "cell_type": "markdown",
   "metadata": {},
   "source": [
    "Here is a human guesser allowing interactive play."
   ]
  },
  {
   "cell_type": "code",
   "execution_count": 2,
   "metadata": {},
   "outputs": [],
   "source": [
    "def human(mask, guessed, **kwargs):\n",
    "    \"\"\"\n",
    "    This is a simple function for manual play.\n",
    "    \"\"\"\n",
    "    print('\\nEnter your guess:')\n",
    "    return input().lower().strip()"
   ]
  },
  {
   "cell_type": "markdown",
   "metadata": {},
   "source": [
    "If you want to play hangman interactively, please set `interactive` to `True`. When submitting your solution, set to `False` so we can automatically run the whole notebook using `Run All`."
   ]
  },
  {
   "cell_type": "code",
   "execution_count": 3,
   "metadata": {},
   "outputs": [],
   "source": [
    "interactive = False"
   ]
  },
  {
   "cell_type": "markdown",
   "metadata": {},
   "source": [
    "<b>For your testing:</b>\n",
    "\n",
    "You can play the game interactively using the following command:"
   ]
  },
  {
   "cell_type": "code",
   "execution_count": 4,
   "metadata": {},
   "outputs": [],
   "source": [
    "if interactive:\n",
    "    hangman('whatever', human, 8, True)"
   ]
  },
  {
   "cell_type": "markdown",
   "metadata": {
    "collapsed": true
   },
   "source": [
    "### Question 1 (1.0 mark)\n",
    "\n",
    "**Instructions**: We will use the words in NLTK's Brown corpus for training an artificial intelligence guessing algorithm, and for evaluating the quality of the algorithm.\n",
    "\n",
    "Your first task is to compute the number of **unique word types** occurring in the Brown corpus, using `nltk.corpus.brown` and the `words` method, and select only words that are **entirely comprised of alphabetic characters**. You should also **lowercase the words**. Finally, randomly shuffle (`numpy.random.shuffle`) this collection of word types, and split them into disjoint training and testing sets. The test set should contain 1000 word types, and the rest should be in the  training set. Note that we are intentionally making the hangman game hard, as the AI will need to cope with test words that it has not seen before, hence it will need to learn generalisable patterns of characters to make reasonable predictions.\n",
    "\n",
    "**Task**: Collect all unique word types from the Brown corpus, and produce `training_set` and `test_set`, 2 lists that contain 2 disjointed sets of words. Both `training_set` and `test_set` should be a python `list` (as initialised in the code). `test_set` must contain exactly 1000 word types.\n",
    "\n",
    "**Check**: Use the assertion statements in <b>\"For your testing\"</b> below for the expected output."
   ]
  },
  {
   "cell_type": "code",
   "execution_count": 5,
   "metadata": {},
   "outputs": [
    {
     "name": "stdout",
     "output_type": "stream",
     "text": [
      "Number of word types in test = 1000\n",
      "Number of word types in train = 39234\n"
     ]
    }
   ],
   "source": [
    "from nltk.corpus import brown\n",
    "from sklearn.model_selection import train_test_split\n",
    "import numpy as np\n",
    "import re\n",
    "\n",
    "np.random.seed(1)\n",
    "\n",
    "# training_set stores the rest word types for training\n",
    "training_set = []\n",
    "# test_set stores 1000 word types for testing\n",
    "test_set = []\n",
    "\n",
    "\n",
    "###\n",
    "# Your answer BEGINS HERE\n",
    "###\n",
    "word_types = set()\n",
    "brown_words = brown.words()\n",
    "for word in brown_words:\n",
    "    if re.search('^[a-zA-Z]+$', word) != None:\n",
    "        word = word.lower()\n",
    "        word_types.add(word)\n",
    "\n",
    "word_types = np.array(list(word_types))\n",
    "\n",
    "np.random.shuffle(word_types)\n",
    "\n",
    "training_set = word_types[1000:]\n",
    "test_set = word_types[0:1000]\n",
    "\n",
    "###\n",
    "# Your answer ENDS HERE\n",
    "###\n",
    "\n",
    "print(\"Number of word types in test =\", len(test_set))\n",
    "print(\"Number of word types in train =\", len(training_set))"
   ]
  },
  {
   "cell_type": "markdown",
   "metadata": {},
   "source": [
    "<b>For your testing:</b>"
   ]
  },
  {
   "cell_type": "code",
   "execution_count": 6,
   "metadata": {},
   "outputs": [],
   "source": [
    "assert(len(training_set) > 35000 and len(training_set) < 45000)\n",
    "assert(len(test_set) == 1000)"
   ]
  },
  {
   "cell_type": "markdown",
   "metadata": {},
   "source": [
    "**Play the game**:\n",
    "\n",
    "Let's see how good you are at this game! Try to guess a random word from the test set. It is surprisingly difficult (and addictive)! Don't forget to set `interactive = True`."
   ]
  },
  {
   "cell_type": "code",
   "execution_count": 7,
   "metadata": {},
   "outputs": [],
   "source": [
    "#play hangman using random words from test set\n",
    "if interactive:\n",
    "    hangman(np.random.choice(test_set), human, 8, True)"
   ]
  },
  {
   "cell_type": "markdown",
   "metadata": {},
   "source": [
    "### Question 2 (1.0 mark)\n",
    "\n",
    "**Instructions**: To set a baseline, your first AI attempt will be a trivial **random method**. For this you should implement a guessing method, similar to the `human` method above, i.e., using the same input arguments and returning a character. Your method should randomly choose a character from the range `a ... z` after excluding the characters that have already been guessed in the current game (all subsequent AI approaches should also exclude previous guesses).\n",
    "\n",
    "To help you measure the performance of this (and later) guesser, a `test_guesser` method that takes a guesser and measures the average number of incorrect guesses made over all the words in the `test_set` is provided to you. \n",
    "\n",
    "**Task**: Complete the `random_guesser` method. It should return a random character from the English alphabets.\n",
    "\n",
    "**Check**: Use the assertion statements in <b>\"For your testing\"</b> below for the expected output."
   ]
  },
  {
   "cell_type": "code",
   "execution_count": 8,
   "metadata": {},
   "outputs": [],
   "source": [
    "def test_guesser(guesser, test=test_set):\n",
    "    \"\"\"\n",
    "        This function takes a guesser and measures the average number of incorrect guesses made over all the words in the test_set. \n",
    "    \"\"\"\n",
    "    total = 0\n",
    "    for word in test:\n",
    "        total += hangman(word, guesser, 26, False)\n",
    "    return total / float(len(test))"
   ]
  },
  {
   "cell_type": "code",
   "execution_count": 9,
   "metadata": {},
   "outputs": [
    {
     "name": "stdout",
     "output_type": "stream",
     "text": [
      "Guessing word = stowe\n",
      "Number of mistakes made by the random guesser = 20\n",
      "\n",
      "Testing the random guesser using every word in test set\n",
      "Average number of incorrect guesses:  16.491\n"
     ]
    }
   ],
   "source": [
    "def random_guesser(mask, guessed, **kwargs):\n",
    "    \n",
    "    ###\n",
    "    # Your answer BEGINS HERE\n",
    "    ###\n",
    "\n",
    "    small = [chr(i) for i in range(97,123)] # Lowercase letters\n",
    "    while True:\n",
    "        random_char = np.random.choice(small)\n",
    "        if random_char in guessed:\n",
    "            small.remove(random_char)\n",
    "        else:\n",
    "            return random_char\n",
    "    ###\n",
    "    # Your answer ENDS HERE\n",
    "    ###\n",
    "\n",
    "random_word = np.random.choice(test_set)\n",
    "print(\"Guessing word =\", random_word)\n",
    "print(\"Number of mistakes made by the random guesser =\", hangman(random_word, random_guesser, 26, False))\n",
    "\n",
    "result = test_guesser(random_guesser)\n",
    "print(\"\\nTesting the random guesser using every word in test set\")\n",
    "print(\"Average number of incorrect guesses: \", result)"
   ]
  },
  {
   "cell_type": "markdown",
   "metadata": {},
   "source": [
    "<b>For your testing:</b>"
   ]
  },
  {
   "cell_type": "code",
   "execution_count": 10,
   "metadata": {},
   "outputs": [],
   "source": [
    "assert(result > 10 and result < 20)"
   ]
  },
  {
   "cell_type": "markdown",
   "metadata": {},
   "source": [
    "### Question 3 (1.0 mark)\n",
    "\n",
    "**Instructions:** As your first real AI, you should train a **unigram language model** over the training set. This requires you to find the frequencies of characters over all training words. Using this model, you should write a guesser that returns the character with the highest probability. Remember to exclude already guessed characters. \n",
    "\n",
    "**Task**: Collect the frequencies of characters and store them in `unigram_counts` (use the first answer space). Complete the `unigram_guesser` method. Note that it takes `unigram_counts` as an additional argument (use the second answer space).\n",
    "\n",
    "**Check**: Use the assertion statements in <b>\"For your testing\"</b> below for the expected output."
   ]
  },
  {
   "cell_type": "code",
   "execution_count": 11,
   "metadata": {},
   "outputs": [
    {
     "name": "stdout",
     "output_type": "stream",
     "text": [
      "Testing the unigram guesser using every word in test set\n",
      "Average number of incorrect guesses:  10.269\n"
     ]
    }
   ],
   "source": [
    "import collections\n",
    "unigram_counts = None\n",
    "\n",
    "###\n",
    "# Your answer BEGINS HERE\n",
    "###\n",
    "lowercase_letters = [chr(i) for i in range(97,123)] # Lowercase letters\n",
    "def get_vocab(training_set):\n",
    "    vocab = collections.defaultdict(int)\n",
    "    for word in training_set:\n",
    "        vocab[' '.join(list(word))] += 1\n",
    "    return vocab\n",
    "\n",
    "def get_tokens(vocab):\n",
    "    tokens = collections.defaultdict(int)\n",
    "    for word, freq in vocab.items():\n",
    "        word_tokens = word.split()\n",
    "        for token in word_tokens:\n",
    "            tokens[token] += freq\n",
    "    return tokens\n",
    "\n",
    "def get_26_alphabets(tokens, lowercase_letters):\n",
    "    for i in range(len(lowercase_letters)):\n",
    "        tokens[lowercase_letters[i]]\n",
    "    return tokens\n",
    "\n",
    "vocab = get_vocab(training_set) # a dict: key is word with space among the chars, value is frequency\n",
    "tokens = get_tokens(vocab) # a list of word and each char's frequency\n",
    "full_uni_tokens = get_26_alphabets(tokens, lowercase_letters)\n",
    "unigram_counts = sorted(full_uni_tokens.items(),key=lambda x:x[1],reverse=True)\n",
    "###\n",
    "# Your answer ENDS HERE\n",
    "###\n",
    "\n",
    "def unigram_guesser(mask, guessed, unigram_counts=unigram_counts):\n",
    "\n",
    "    ###\n",
    "    # Your answer BEGINS HERE\n",
    "    ###\n",
    "    for i in range(len(unigram_counts)):\n",
    "        max_char = unigram_counts[i][0]\n",
    "        if max_char not in guessed:\n",
    "            return max_char\n",
    "    ###\n",
    "    # Your answer ENDS HERE\n",
    "    ###\n",
    "\n",
    "\n",
    "result = test_guesser(unigram_guesser)\n",
    "print(\"Testing the unigram guesser using every word in test set\")\n",
    "print(\"Average number of incorrect guesses: \", result)"
   ]
  },
  {
   "cell_type": "markdown",
   "metadata": {},
   "source": [
    "<b>For your testing:</b>"
   ]
  },
  {
   "cell_type": "code",
   "execution_count": 12,
   "metadata": {},
   "outputs": [],
   "source": [
    "assert(result > 5 and result < 15)"
   ]
  },
  {
   "cell_type": "markdown",
   "metadata": {},
   "source": [
    "### Question 4 (1.0 mark)\n",
    "\n",
    "**Instructions:** The length of the secret word is an important clue that we might exploit. Different lengths tend to have different distributions over characters, e.g., short words are less likely to have suffixes or prefixes. You should incorporate this idea by conditioning the unigram model on the length of the secret word, i.e.,  having a **different unigram model for each length**. You will need to be a little careful at test time, to be robust to the situation that you encounter a word length that you didn't see in training. In such a case, your method should behave like the previous `unigram_guesser` in Question 3 (i.e., it guesses characters based on unigram frequencies, unconditioned by the word length).\n",
    "\n",
    "**Task**: Collect the frequencies of characters conditioned on the word length and store them in `unigram_counts_by_length` (use the first answer space). Complete the `unigram_length_guesser` method (use the second answer space).\n",
    "\n",
    "**Check**: Use the assertion statements in <b>\"For your testing\"</b> below for the expected output."
   ]
  },
  {
   "cell_type": "code",
   "execution_count": 13,
   "metadata": {
    "scrolled": true
   },
   "outputs": [
    {
     "name": "stdout",
     "output_type": "stream",
     "text": [
      "Testing the length-conditioned unigram guesser using every word in test set\n",
      "Average number of incorrect guesses:  10.202\n"
     ]
    }
   ],
   "source": [
    "unigram_counts_by_length = None\n",
    "\n",
    "###\n",
    "# Your answer BEGINS HERE\n",
    "###\n",
    "unigram_counts_by_length = collections.defaultdict(list)\n",
    "# at first, the value of vocab_by_length is a list of corresponding length's word\n",
    "for word in training_set:\n",
    "    unigram_counts_by_length[len(word)].append(word)\n",
    "\n",
    "for key, value in unigram_counts_by_length.items():\n",
    "    vocab_by_length = get_vocab(value)\n",
    "    tokens = get_tokens(vocab_by_length)\n",
    "    temp_unigram_counts = get_26_alphabets(tokens, lowercase_letters)\n",
    "    # let the frequencies sort from large to small at each length\n",
    "    temp_unigram_counts = sorted(tokens.items(),key=lambda x:x[1],reverse=True)\n",
    "    unigram_counts_by_length[key] = temp_unigram_counts\n",
    "\n",
    "###\n",
    "# Your answer ENDS HERE\n",
    "###\n",
    "\n",
    "def unigram_length_guesser(mask, guessed, unigram_counts_by_length=unigram_counts_by_length, unigram_counts=unigram_counts):\n",
    "    ###\n",
    "    # Your answer BEGINS HERE\n",
    "    ###\n",
    "    length = len(mask)\n",
    "    if unigram_counts_by_length[length] != []:\n",
    "        for i in range(len(unigram_counts_by_length[length])):\n",
    "            max_char = unigram_counts_by_length[length][i][0]\n",
    "            if max_char not in guessed:\n",
    "                return max_char\n",
    "    else:\n",
    "        for i in range(len(unigram_counts)):\n",
    "            max_char = unigram_counts[i][0]\n",
    "            if max_char not in guessed:\n",
    "                return max_char\n",
    "\n",
    "    ###\n",
    "    # Your answer ENDS HERE\n",
    "    ###\n",
    "\n",
    "result = test_guesser(unigram_length_guesser)\n",
    "print(\"Testing the length-conditioned unigram guesser using every word in test set\")\n",
    "print(\"Average number of incorrect guesses: \", result)"
   ]
  },
  {
   "cell_type": "markdown",
   "metadata": {},
   "source": [
    "<b>For your testing:</b>"
   ]
  },
  {
   "cell_type": "code",
   "execution_count": 14,
   "metadata": {},
   "outputs": [],
   "source": [
    "assert(result > 5 and result < 15)"
   ]
  },
  {
   "cell_type": "markdown",
   "metadata": {},
   "source": [
    "### Question 5 (1.0 mark)\n",
    "\n",
    "**Instructions:** Now for the next challenge, you'll build a **bigram language model** over characters. The order of characters is obviously important, yet this wasn't incorporated in any of the above models. Knowing that the word has the sequence `n _ s s` is a pretty strong clue that the missing character might be `e`. Similarly the distribution over characters that start or end a word are highly biased (e.g., toward common prefixes and suffixes, like *un-*, *-ed* and *-ly*).\n",
    "\n",
    "The task here is to develop a bigram language model over characters, and train it over the training words. Remember to be careful when handling the start of each word properly, e.g., by padding with a special starting symbol such as `$`. Do we also need a special ending symbol? That's for you to decide.\n",
    "\n",
    "Your bigram guesser should apply your language model to each blank position in the secret word by using its left context character. For example, in the partial word `e _ c _ b _ _` we know the left context for the first three blanks, but have no known left context for the last blank. In the case for the last blank, you should revert to using a unigram language model (since there's no context for us to use the bigram model). You should sum up the probability distribution (over all alphabets from <i>a</i> to <i>z</i>) for the 4 blanks, and select the alphabet with the highest probability that hasn't been guessed.\n",
    "\n",
    "**Task**: Collect frequency counts that are necessary for building a bigram language model and store them in bigram_counts; feel free to add new objects if needed (use the first answer space). Complete the `bigram_guesser` method (use the second answer space). Note that the method currently only has one additional argument (`bigram_counts`), but you are free to add additional arguments."
   ]
  },
  {
   "cell_type": "code",
   "execution_count": 15,
   "metadata": {
    "scrolled": true
   },
   "outputs": [
    {
     "name": "stdout",
     "output_type": "stream",
     "text": [
      "Testing the bigram guesser using every word in test set\n",
      "Average number of incorrect guesses:  8.607\n"
     ]
    }
   ],
   "source": [
    "bigram_counts = None\n",
    "\n",
    "###\n",
    "# Your answer BEGINS HERE\n",
    "###\n",
    "\n",
    "def get_1bigram_vocab(training_set):\n",
    "    bigram_vocab = collections.defaultdict(int)\n",
    "    for word in training_set:\n",
    "        #note: we use the special token $ (instead of underscore in the lecture) to denote the start of a word\n",
    "        bigram_vocab['$ ' + ' '.join(list(word))] += 1\n",
    "    return bigram_vocab\n",
    "\n",
    "def get_1padding_tokens(bigram_vocab):\n",
    "    onepadding_tokens = collections.defaultdict(int)\n",
    "    for word, freq in bigram_vocab.items():\n",
    "        word_tokens = word.split()\n",
    "        for token in word_tokens:\n",
    "            onepadding_tokens[token] += freq\n",
    "    return onepadding_tokens\n",
    "\n",
    "def get_1bigram_stats(bigram_vocab):\n",
    "    pairs = collections.defaultdict(int)\n",
    "    for word, freq in bigram_vocab.items():\n",
    "        symbols = word.split()\n",
    "        for i in range(len(symbols)-1):\n",
    "            pairs[symbols[i],symbols[i+1]] += freq\n",
    "    return pairs\n",
    "\n",
    "bigram_vocab = get_1bigram_vocab(training_set)\n",
    "onepadding_counts = get_1padding_tokens(bigram_vocab)\n",
    "onebigram_counts = get_1bigram_stats(bigram_vocab)\n",
    "\n",
    "total_unigram_counts = sum(full_uni_tokens.values())\n",
    "\n",
    "def get_blank_idx(onepadding_mask):\n",
    "    blank_idx = []\n",
    "    for i in range(len(onepadding_mask)):\n",
    "        if onepadding_mask[i] == '_':\n",
    "            blank_idx.append(i)\n",
    "    return blank_idx\n",
    "\n",
    "def get_unidir_bi_char_prob(blank_idx, char_prob, onepadding_mask):\n",
    "    for idx in blank_idx:\n",
    "        for j in range(len(lowercase_letters)):\n",
    "            if onepadding_mask[idx-1] == '_':\n",
    "                # do unigram\n",
    "                char = lowercase_letters[j] # one of char in 'a-z'\n",
    "                numerator = full_uni_tokens[char] # C(wi) in the slides\n",
    "                char_prob[char] = char_prob[char] + numerator/total_unigram_counts\n",
    "            else:\n",
    "                # do bigram\n",
    "                char = lowercase_letters[j] # one of char in 'a-z'\n",
    "                numerator = onebigram_counts[onepadding_mask[idx-1], char] # C(wi-1, wi)\n",
    "                char_prob[char] = char_prob[char] + numerator/onepadding_counts[onepadding_mask[idx-1]]\n",
    "\n",
    "    return char_prob\n",
    "\n",
    "###\n",
    "# Your answer ENDS HERE\n",
    "###\n",
    "\n",
    "\n",
    "def bigram_guesser(mask, guessed, bigram_counts=bigram_counts, unigram_counts=unigram_counts): # add extra arguments if needed\n",
    "    ###\n",
    "    # Your answer BEGINS HERE\n",
    "    ###\n",
    "    char_prob = collections.defaultdict(int)\n",
    "    char_prob = get_26_alphabets(char_prob, lowercase_letters)\n",
    "    onepadding_mask = ['$']\n",
    "    onepadding_mask.extend(mask)\n",
    "    n = len(onepadding_mask)\n",
    "    \n",
    "    blank_idx = get_blank_idx(onepadding_mask)\n",
    "    char_prob = get_unidir_bi_char_prob(blank_idx, char_prob, onepadding_mask)\n",
    "    \n",
    "    for i in range(len(char_prob)):\n",
    "        max_char = sorted(char_prob, key=char_prob.get, reverse=True)[i]\n",
    "        if max_char not in guessed:\n",
    "            return max_char\n",
    "    ###\n",
    "    # Your answer ENDS HERE\n",
    "    ###\n",
    "\n",
    "\n",
    "\n",
    "result = test_guesser(bigram_guesser)\n",
    "print(\"Testing the bigram guesser using every word in test set\")\n",
    "print(\"Average number of incorrect guesses: \", result)"
   ]
  },
  {
   "cell_type": "markdown",
   "metadata": {},
   "source": [
    "### Question 6 (1.5 mark)\n",
    "\n",
    "**Instructions:** You should try to develop a more effective AI for hangman. Feel free to engage your creativity here! Possibilities include better conditioning on the length of the word, fancier smoothing methods, ngram models and bidirectional models (lecture 8). Have fun!\n",
    "\n",
    "You will be marked based on the performance of your AI model, using a pre-made training and test set (created using a secret seed). Let x be the average number of mistakes in the test set, you will score:\n",
    "* 1.5 mark if x < 8.0\n",
    "* 1.0 mark if 8.0 <= x < 8.5\n",
    "* 0.5 mark if 8.5 <= x < 8.8\n",
    "* 0.0 mark if x >= 8.8\n",
    "\n",
    "Note: when testing your AI model's performance, you may want to consider trying different training/test splits (using different seeds) to have a better understanding of its performance, as there will be some variance to its performance depending on the training/test split.\n",
    "\n",
    "**Task** Complete the `my_amazing_ai_guesser` method, which implements a better language model for hangman."
   ]
  },
  {
   "cell_type": "code",
   "execution_count": 16,
   "metadata": {},
   "outputs": [
    {
     "name": "stdout",
     "output_type": "stream",
     "text": [
      "Testing my amazing AI guesser using every word in test set\n",
      "Average number of incorrect guesses:  7.457\n"
     ]
    }
   ],
   "source": [
    "###\n",
    "# Your answer BEGINS HERE\n",
    "###\n",
    "def get_2trigram2_vocab(training_set):\n",
    "    trigram_vocab = collections.defaultdict(int)\n",
    "    for word in training_set:\n",
    "        trigram_vocab['$ $ ' + ' '.join(list(word)) + ' # #'] += 1\n",
    "    return trigram_vocab\n",
    "\n",
    "def get_2trigram2_stat(trigram_vocab):\n",
    "    pairs = collections.defaultdict(int)\n",
    "    for word, freq in trigram_vocab.items():\n",
    "        symbols = word.split()\n",
    "        for i in range(len(symbols)-2):\n",
    "            pairs[symbols[i],symbols[i+1],symbols[i+2]] += freq\n",
    "    return pairs\n",
    "\n",
    "def get_2padding2_tokens(trigram_vocab):\n",
    "    twopadding2_tokens = collections.defaultdict(int)\n",
    "    for word, freq in trigram_vocab.items():\n",
    "        symbols = word.split()\n",
    "        for i in range(len(symbols)-1):\n",
    "            twopadding2_tokens[symbols[i],symbols[i+1]] += freq\n",
    "    return twopadding2_tokens\n",
    "\n",
    "def get_1bigram1_vocab(training_set):\n",
    "    bigram_vocab = collections.defaultdict(int)\n",
    "    for word in training_set:\n",
    "        bigram_vocab['$ ' + ' '.join(list(word)) + ' #'] += 1\n",
    "    return bigram_vocab\n",
    "\n",
    "def get_1bigram1_stat(bigram_vocab):\n",
    "    pairs = collections.defaultdict(int)\n",
    "    for word, freq in bigram_vocab.items():\n",
    "        symbols = word.split()\n",
    "        for i in range(len(symbols)-1):\n",
    "            pairs[symbols[i],symbols[i+1]] += freq\n",
    "    return pairs\n",
    "\n",
    "def get_1padding1_tokens(bigram_vocab):\n",
    "    onepadding1_tokens = collections.defaultdict(int)\n",
    "    for word, freq in bigram_vocab.items():\n",
    "        symbols = word.split()\n",
    "        for i in range(len(symbols)):\n",
    "            onepadding1_tokens[symbols[i]] += freq\n",
    "    return onepadding1_tokens\n",
    "\n",
    "# find all blanks index in the padding word\n",
    "def get_blank_idx(twopadding2_mask):\n",
    "    blank_idx = []\n",
    "    for i in range(len(twopadding2_mask)):\n",
    "        if twopadding2_mask[i] == '_':\n",
    "            blank_idx.append(i)\n",
    "    return blank_idx\n",
    "\n",
    "def get_bidir_tri_char_prob(blank_idx, char_prob, twopadding2_mask):\n",
    "    for idx in blank_idx:\n",
    "        for j in range(len(lowercase_letters)):\n",
    "            if twopadding2_mask[idx-1] == '_':\n",
    "                # do unigram\n",
    "                char = lowercase_letters[j] # one of char in 'a-z'\n",
    "                numerator = full_uni_tokens[char] # C(wi) in the slides\n",
    "                char_prob[char] = char_prob[char] + 0.3*(numerator/total_unigram_counts)\n",
    "            elif twopadding2_mask[idx-2] == '_':\n",
    "                # do bigram\n",
    "                char = lowercase_letters[j] # one of char in 'a-z'\n",
    "                numerator = onebigram1_counts[twopadding2_mask[idx-1], char] # C(wi-1, wi)\n",
    "                char_prob[char] = char_prob[char] + 0.9*(numerator/onepadding1_counts[twopadding2_mask[idx-1]])\n",
    "            else:\n",
    "                # do trigram\n",
    "                char = lowercase_letters[j] # one of char in 'a-z'\n",
    "                numerator = twotrigram2_counts[twopadding2_mask[idx-2], twopadding2_mask[idx-1], char] # C(wi-2, wi-1, wi)\n",
    "                char_prob[char] = char_prob[char] + numerator/twopadding2_counts[twopadding2_mask[idx-2], twopadding2_mask[idx-1]]\n",
    "\n",
    "            # inverse part of ngram model\n",
    "            if twopadding2_mask[idx+1] == '_':\n",
    "                # do unigram\n",
    "                char = lowercase_letters[j] # one of char in 'a-z'\n",
    "                numerator = full_uni_tokens[char] # C(wi) in the slides\n",
    "                char_prob[char] = char_prob[char] + 0.3*(numerator/total_unigram_counts)\n",
    "            elif twopadding2_mask[idx+2] == '_':\n",
    "                # do bigram\n",
    "                char = lowercase_letters[j] # one of char in 'a-z'\n",
    "                numerator = onebigram1_counts[char, twopadding2_mask[idx+1]] # C(wi, wi+1)\n",
    "                char_prob[char] = char_prob[char] + 0.9*(numerator/onepadding1_counts[twopadding2_mask[idx+1]])\n",
    "            else:\n",
    "                # do trigram\n",
    "                char = lowercase_letters[j] # one of char in 'a-z'\n",
    "                numerator = twotrigram2_counts[char, twopadding2_mask[idx+1], twopadding2_mask[idx+2]] # C(wi, wi+1, wi+2)\n",
    "                char_prob[char] = char_prob[char] + numerator/twopadding2_counts[twopadding2_mask[idx+1], twopadding2_mask[idx+2]]\n",
    "    return char_prob\n",
    "\n",
    "trigram_vocab = get_2trigram2_vocab(training_set)\n",
    "twopadding2_counts = get_2padding2_tokens(trigram_vocab)\n",
    "twotrigram2_counts = get_2trigram2_stat(trigram_vocab)\n",
    "\n",
    "bigram_vocab = get_1bigram1_vocab(training_set)\n",
    "onepadding1_counts = get_1padding1_tokens(bigram_vocab)\n",
    "onebigram1_counts = get_1bigram1_stat(bigram_vocab)\n",
    "\n",
    "total_uni_counts = sum(onepadding1_counts.values())\n",
    "\n",
    "\n",
    "def my_amazing_ai_guesser(mask, guessed ):\n",
    "    \n",
    "    char_prob = collections.defaultdict(int)\n",
    "    char_prob = get_26_alphabets(char_prob, lowercase_letters)\n",
    "    twopadding2_mask = ['$','$']\n",
    "    twopadding2_mask.extend(mask)\n",
    "    twopadding2_mask.extend(['#','#'])\n",
    "    n = len(twopadding2_mask)\n",
    "    \n",
    "    blank_idx = get_blank_idx(twopadding2_mask)\n",
    "    char_prob = get_bidir_tri_char_prob(blank_idx, char_prob, twopadding2_mask)\n",
    "    \n",
    "    for i in range(len(char_prob)):\n",
    "        max_char = sorted(char_prob, key=char_prob.get, reverse=True)[i]\n",
    "        if max_char not in guessed:\n",
    "            return max_char\n",
    "###\n",
    "# Your answer ENDS HERE\n",
    "###\n",
    "\n",
    "result = test_guesser(my_amazing_ai_guesser)\n",
    "print(\"Testing my amazing AI guesser using every word in test set\")\n",
    "print(\"Average number of incorrect guesses: \", result)"
   ]
  },
  {
   "cell_type": "markdown",
   "metadata": {},
   "source": [
    "### Question 7 (0.5 mark)\n",
    "\n",
    "**Instructions:** Explain your approach and discuss your result below. Please keep your explanation to a short paragraph."
   ]
  },
  {
   "cell_type": "markdown",
   "metadata": {},
   "source": [
    "##### Your answer BEGINS HERE\n",
    "From question 2 to 5, I found that taking ngram language model has better performance, and with n growing up, it seems that the 'Average number of incorrect guesses' is smaller and smaller. So in question 6, I tried trigram model, finding the answer is around 8.0, not stable, then there are two choices: \n",
    "1. use a higher ngram model, like quadgram model.\n",
    "2. import bidirection method\n",
    "Through research I found quadgram may have serious data sparsity, and need larger corpus training, I finally choose mothed 2. I think sometime inverse language model can give more information, like 'on' to predict $'i'$.\n",
    "\n",
    "In my approach, I still add the probabilities of all $'\\_'$ for each character 'a-z', and return the maxmium as the question 5 did. But what's a little different is that I give a weight to each model, like 0.9 for the bigram, 0.3 for the unigram, which is because trigram contains more information than bigram and unigram, these two models may give some noise to the probability. \n",
    "At the end, my model stays stable at about 7.4.\n",
    "##### Your answer ENDS HERE"
   ]
  },
  {
   "cell_type": "code",
   "execution_count": null,
   "metadata": {},
   "outputs": [],
   "source": []
  }
 ],
 "metadata": {
  "anaconda-cloud": {},
  "kernelspec": {
   "display_name": "Python 3",
   "language": "python",
   "name": "python3"
  },
  "language_info": {
   "codemirror_mode": {
    "name": "ipython",
    "version": 3
   },
   "file_extension": ".py",
   "mimetype": "text/x-python",
   "name": "python",
   "nbconvert_exporter": "python",
   "pygments_lexer": "ipython3",
   "version": "3.8.8"
  }
 },
 "nbformat": 4,
 "nbformat_minor": 1
}
